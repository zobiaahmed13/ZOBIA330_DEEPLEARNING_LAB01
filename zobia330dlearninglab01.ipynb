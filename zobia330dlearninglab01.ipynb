{
 "cells": [
  {
   "cell_type": "code",
   "execution_count": 55,
   "id": "fe83de03-28f2-4aab-8314-14a5df2eb65f",
   "metadata": {},
   "outputs": [
    {
     "name": "stdout",
     "output_type": "stream",
     "text": [
      "ZOBIA AHMED / 2022F-BSE-330 / LAB 01 / TASK 01 / PART A:\n",
      "\n",
      "Random Tensor:\n",
      " [[[0.34280086 0.5560683  0.5247612 ]\n",
      "  [0.14251578 0.7605388  0.6578268 ]]\n",
      "\n",
      " [[0.37783146 0.77155197 0.5288713 ]\n",
      "  [0.8503592  0.38361776 0.2898296 ]]\n",
      "\n",
      " [[0.71881855 0.39453447 0.35547566]\n",
      "  [0.00588894 0.32162106 0.5671476 ]]]\n",
      "\n",
      "Sum: 8.550059\n",
      "Mean: 0.4750033\n",
      "Max: 0.8503592\n"
     ]
    }
   ],
   "source": [
    "#ZOBIA AHMED / 2022F-BSE-330 / LAB 01 / TASK 01 / PART A:\n",
    "import tensorflow as tf\n",
    "\n",
    "print(\"ZOBIA AHMED / 2022F-BSE-330 / LAB 01 / TASK 01 / PART A:\\n\")\n",
    "\n",
    "# Create a 3D tensor with random float values\n",
    "random_tensor = tf.random.uniform(shape=(3, 2, 3), minval=0, maxval=1, dtype=tf.float32)\n",
    "\n",
    "# Calculate the sum, mean, and maximum of the tensor\n",
    "tensor_sum = tf.reduce_sum(random_tensor)\n",
    "tensor_mean = tf.reduce_mean(random_tensor)\n",
    "tensor_max = tf.reduce_max(random_tensor)\n",
    "\n",
    "# Print the results\n",
    "print(\"Random Tensor:\\n\", random_tensor.numpy())\n",
    "print(\"\\nSum:\", tensor_sum.numpy())\n",
    "print(\"Mean:\", tensor_mean.numpy())\n",
    "print(\"Max:\", tensor_max.numpy())"
   ]
  },
  {
   "cell_type": "code",
   "execution_count": 57,
   "id": "d05059a5-eadf-4ddf-98fb-3cc7601f365d",
   "metadata": {},
   "outputs": [
    {
     "name": "stdout",
     "output_type": "stream",
     "text": [
      "ZOBIA AHMED / 2022F-BSE-330 / LAB 01 / TASK 01 / PART B:\n",
      "\n",
      "Specific Element [1, 2, 1]: 17\n",
      "2D Slice (First Layer):\n",
      " [[1 2 3]\n",
      " [4 5 6]\n",
      " [7 8 9]]\n",
      "1D Slice (First Row of Second Layer): [22 23 24]\n"
     ]
    }
   ],
   "source": [
    "#ZOBIA AHMED / 2022F-BSE-330 / LAB 01 / TASK 01 / PART B:\n",
    "print(\"ZOBIA AHMED / 2022F-BSE-330 / LAB 01 / TASK 01 / PART B:\\n\")\n",
    "\n",
    "# Create another 3D tensor for slicing\n",
    "tensor_3d = tf.constant([\n",
    "    [[1, 2, 3], [4, 5, 6], [7, 8, 9]],\n",
    "    [[10, 11, 12], [13, 14, 15], [16, 17, 18]],\n",
    "    [[19, 20, 21], [22, 23, 24], [25, 26, 27]]\n",
    "])\n",
    "\n",
    "# Access a specific element (e.g., element at position [1, 2, 1])\n",
    "specific_element = tensor_3d[1, 2, 1]\n",
    "\n",
    "# Access a 2D slice (e.g., slice of the first layer)\n",
    "two_d_slice = tensor_3d[0, :, :]\n",
    "\n",
    "# Access a 1D slice (e.g., first row of the second layer)\n",
    "one_d_slice = tensor_3d[2, 1, :]\n",
    "\n",
    "# Print the accessed elements and slices\n",
    "print(\"Specific Element [1, 2, 1]:\", specific_element.numpy())\n",
    "print(\"2D Slice (First Layer):\\n\", two_d_slice.numpy())\n",
    "print(\"1D Slice (First Row of Second Layer):\", one_d_slice.numpy())"
   ]
  },
  {
   "cell_type": "code",
   "execution_count": 59,
   "id": "60d6c272-523f-4693-a2cd-02f0cabb7c7b",
   "metadata": {},
   "outputs": [
    {
     "name": "stdout",
     "output_type": "stream",
     "text": [
      "ZOBIA AHMED / 2022F-BSE-330 / LAB 01 / TASK 02:\n",
      "\n",
      "Results of Tensor Operations:\n",
      "Addition: [15. 30. 45.]\n",
      "Subtraction: [ 5. 10. 15.]\n",
      "Multiplication: [ 50. 200. 450.]\n",
      "Division: [2. 2. 2.]\n"
     ]
    }
   ],
   "source": [
    "#ZOBIA AHMED / 2022F-BSE-330 / LAB 01 / TASK 02:\n",
    "print(\"ZOBIA AHMED / 2022F-BSE-330 / LAB 01 / TASK 02:\\n\")\n",
    "\n",
    "import tensorflow as tf\n",
    "\n",
    "# Define the tensor operations function\n",
    "@tf.function\n",
    "def tensor_operations(tensor1, tensor2):\n",
    "    addition = tf.add(tensor1, tensor2)\n",
    "    subtraction = tf.subtract(tensor1, tensor2)\n",
    "    multiplication = tf.multiply(tensor1, tensor2)\n",
    "    division = tf.divide(tensor1, tensor2)\n",
    "    \n",
    "    return {\n",
    "        \"addition\": addition,\n",
    "        \"subtraction\": subtraction,\n",
    "        \"multiplication\": multiplication,\n",
    "        \"division\": division\n",
    "    }\n",
    "\n",
    "# Test the function with the provided tensors\n",
    "tensor1 = tf.constant([10, 20, 30], dtype=tf.float32)\n",
    "tensor2 = tf.constant([5, 10, 15], dtype=tf.float32)\n",
    "\n",
    "# Call the tensor_operations function\n",
    "results = tensor_operations(tensor1, tensor2)\n",
    "\n",
    "# Print the results\n",
    "print(\"Results of Tensor Operations:\")\n",
    "for operation, result in results.items():\n",
    "    print(f\"{operation.capitalize()}: {result.numpy()}\")"
   ]
  },
  {
   "cell_type": "code",
   "execution_count": 67,
   "id": "371934d6-f010-434f-8bf1-c0c271e174e2",
   "metadata": {},
   "outputs": [
    {
     "name": "stdout",
     "output_type": "stream",
     "text": [
      "ZOBIA AHMED / 2022F-BSE-330 / LAB 01 / TASK 03 / PART A:\n",
      "\n",
      "Random Array: [0.12616478 0.94958597 0.25193211 0.89854833 0.07475034 0.36058331\n",
      " 0.58723427 0.83853112 0.61623784 0.10457007]\n",
      "\n",
      "Sorted Ascending: [0.07475034 0.10457007 0.12616478 0.25193211 0.36058331 0.58723427\n",
      " 0.61623784 0.83853112 0.89854833 0.94958597]\n",
      "\n",
      "Sorted Descending: [0.94958597 0.89854833 0.83853112 0.61623784 0.58723427 0.36058331\n",
      " 0.25193211 0.12616478 0.10457007 0.07475034]\n"
     ]
    }
   ],
   "source": [
    "#ZOBIA AHMED / 2022F-BSE-330 / LAB 01 / TASK 03 / PART A:\n",
    "print(\"ZOBIA AHMED / 2022F-BSE-330 / LAB 01 / TASK 03 / PART A:\\n\")\n",
    "\n",
    "import numpy as np\n",
    "\n",
    "# Create a NumPy array with random float values\n",
    "random_array = np.random.rand(10)  # Array of 10 random floats\n",
    "\n",
    "# Sort the array in ascending order\n",
    "sorted_ascending = np.sort(random_array)\n",
    "\n",
    "# Sort the array in descending order\n",
    "sorted_descending = sorted_ascending[::-1]  # Reverse the sorted array\n",
    "\n",
    "# Print the results\n",
    "print(\"Random Array:\", random_array)\n",
    "print(\"\\nSorted Ascending:\", sorted_ascending)\n",
    "print(\"\\nSorted Descending:\", sorted_descending)"
   ]
  },
  {
   "cell_type": "code",
   "execution_count": 63,
   "id": "6cddeb36-dc81-4534-96af-f02238d43ba7",
   "metadata": {},
   "outputs": [
    {
     "name": "stdout",
     "output_type": "stream",
     "text": [
      "ZOBIA AHMED / 2022F-BSE-330 / LAB 01 / TASK 03 / PART B:\n",
      "\n",
      "2x2 Matrix:\n",
      " [[1 2]\n",
      " [3 4]]\n",
      "Transpose of Matrix:\n",
      " [[1 3]\n",
      " [2 4]]\n",
      "Inverse of Matrix:\n",
      " [[-2.   1. ]\n",
      " [ 1.5 -0.5]]\n"
     ]
    }
   ],
   "source": [
    "#ZOBIA AHMED / 2022F-BSE-330 / LAB 01 / TASK 03 / PART B:\n",
    "print(\"ZOBIA AHMED / 2022F-BSE-330 / LAB 01 / TASK 03 / PART B:\\n\")\n",
    "\n",
    "# Create a 2x2 NumPy matrix\n",
    "matrix_2x2 = np.array([[1, 2], [3, 4]])\n",
    "\n",
    "# Calculate its transpose\n",
    "matrix_transpose = np.transpose(matrix_2x2)\n",
    "\n",
    "# Calculate its inverse\n",
    "matrix_inverse = np.linalg.inv(matrix_2x2)\n",
    "\n",
    "# Print the results\n",
    "print(\"2x2 Matrix:\\n\", matrix_2x2)\n",
    "print(\"Transpose of Matrix:\\n\", matrix_transpose)\n",
    "print(\"Inverse of Matrix:\\n\", matrix_inverse)"
   ]
  },
  {
   "cell_type": "code",
   "execution_count": 69,
   "id": "4d93ce9f-01f4-44df-8224-a4b18b7d8031",
   "metadata": {},
   "outputs": [
    {
     "name": "stdout",
     "output_type": "stream",
     "text": [
      "ZOBIA AHMED / 2022F-BSE-330 / LAB 01 / TASK 03 / PART C:\n",
      "\n",
      "2D Array:\n",
      " [[1 2 3]\n",
      " [4 5 6]\n",
      " [7 8 9]]\n",
      "\n",
      "Sum of Each Row: [ 6 15 24]\n",
      "Mean of Each Column: [4. 5. 6.]\n",
      "Standard Deviation of the Entire Array: 2.581988897471611\n"
     ]
    }
   ],
   "source": [
    "#ZOBIA AHMED / 2022F-BSE-330 / LAB 01 / TASK 03 / PART C:\n",
    "print(\"ZOBIA AHMED / 2022F-BSE-330 / LAB 01 / TASK 03 / PART C:\\n\")\n",
    "\n",
    "# Create a 2D NumPy array\n",
    "array_2d = np.array([[1, 2, 3], [4, 5, 6], [7, 8, 9]])\n",
    "\n",
    "# Calculate the sum of each row\n",
    "row_sums = np.sum(array_2d, axis=1)\n",
    "\n",
    "# Calculate the mean of each column\n",
    "column_means = np.mean(array_2d, axis=0)\n",
    "\n",
    "# Calculate the standard deviation of the entire array\n",
    "std_deviation = np.std(array_2d)\n",
    "\n",
    "# Print the results\n",
    "print(\"2D Array:\\n\", array_2d)\n",
    "print(\"\\nSum of Each Row:\", row_sums)\n",
    "print(\"Mean of Each Column:\", column_means)\n",
    "print(\"Standard Deviation of the Entire Array:\", std_deviation)"
   ]
  },
  {
   "cell_type": "code",
   "execution_count": null,
   "id": "a36f3682-79ce-42de-8ae2-886442caf5da",
   "metadata": {},
   "outputs": [],
   "source": []
  },
  {
   "cell_type": "code",
   "execution_count": null,
   "id": "08d6ab61-9921-4386-95e4-fea29e573275",
   "metadata": {},
   "outputs": [],
   "source": []
  }
 ],
 "metadata": {
  "kernelspec": {
   "display_name": "Python 3 (ipykernel)",
   "language": "python",
   "name": "python3"
  },
  "language_info": {
   "codemirror_mode": {
    "name": "ipython",
    "version": 3
   },
   "file_extension": ".py",
   "mimetype": "text/x-python",
   "name": "python",
   "nbconvert_exporter": "python",
   "pygments_lexer": "ipython3",
   "version": "3.12.7"
  }
 },
 "nbformat": 4,
 "nbformat_minor": 5
}
